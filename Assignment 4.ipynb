{
 "cells": [
  {
   "cell_type": "raw",
   "id": "aadee71d",
   "metadata": {},
   "source": [
    "\n",
    "Assignment 4\n",
    "Read the data Uber dataset\n",
    "The dataset contains the following fields:\n",
    "●\tkey - a unique identifier for each trip\n",
    "●\tfare_amount - the cost of each trip in usd\n",
    "●\tpickup_datetime - date and time when the meter was engaged\n",
    "●\tpassenger_count - the number of passengers in the vehicle (driver entered value)\n",
    "●\tpickup_longitude - the longitude where the meter was engaged\n",
    "●\tpickup_latitude - the latitude where the meter was engaged\n",
    "●\tdropoff_longitude - the longitude where the meter was disengaged\n",
    "●\tdropoff_latitude - the latitude where the meter was disengaged\n",
    "Perform following tasks: \n",
    "1. Pre-process the dataset. \n",
    "2. Identify outliers. \n",
    "3. Implement random forest  model to  predict the price of the Uber ride from a given pickup point     to the agreed drop-off location \n",
    "5. Find out RMSE score \n"
   ]
  },
  {
   "cell_type": "code",
   "execution_count": 1,
   "id": "19b4464f",
   "metadata": {},
   "outputs": [
    {
     "name": "stdout",
     "output_type": "stream",
     "text": [
      "Missing values:\n",
      " Unnamed: 0           0\n",
      "key                  0\n",
      "fare_amount          0\n",
      "pickup_datetime      0\n",
      "pickup_longitude     0\n",
      "pickup_latitude      0\n",
      "dropoff_longitude    1\n",
      "dropoff_latitude     1\n",
      "passenger_count      0\n",
      "dtype: int64\n"
     ]
    }
   ],
   "source": [
    "import pandas as pd\n",
    "\n",
    "# Read the Uber dataset\n",
    "uber_df = pd.read_csv('uber.csv')\n",
    "\n",
    "# Check for missing values\n",
    "missing_values = uber_df.isnull().sum()\n",
    "print(\"Missing values:\\n\", missing_values)\n",
    "\n",
    "# Convert 'pickup_datetime' to datetime data type\n",
    "uber_df['pickup_datetime'] = pd.to_datetime(uber_df['pickup_datetime'])\n"
   ]
  },
  {
   "cell_type": "code",
   "execution_count": 2,
   "id": "9161cca7",
   "metadata": {},
   "outputs": [],
   "source": [
    "# Drop rows with null values in the latitude and longitude columns\n",
    "uber_df = uber_df.dropna(subset=['pickup_longitude', 'pickup_latitude', 'dropoff_longitude', 'dropoff_latitude'])\n"
   ]
  },
  {
   "cell_type": "code",
   "execution_count": 3,
   "id": "d073158a",
   "metadata": {},
   "outputs": [
    {
     "data": {
      "image/png": "[encoded data removed]",
      "text/plain": [
       "<Figure size 640x480 with 1 Axes>"
      ]
     },
     "metadata": {},
     "output_type": "display_data"
    }
   ],
   "source": [
    "import matplotlib.pyplot as plt\n",
    "\n",
    "# Create a box plot to identify outliers in the 'fare_amount' column\n",
    "plt.boxplot(uber_df['fare_amount'])\n",
    "plt.title('Box Plot of Fare Amount')\n",
    "plt.show()\n"
   ]
  },
  {
   "cell_type": "code",
   "execution_count": 4,
   "id": "33b7f102",
   "metadata": {},
   "outputs": [],
   "source": [
    "from sklearn.model_selection import train_test_split\n",
    "from sklearn.ensemble import RandomForestRegressor\n",
    "\n",
    "# Define features and target\n",
    "X = uber_df[['pickup_longitude', 'pickup_latitude', 'dropoff_longitude', 'dropoff_latitude']]\n",
    "y = uber_df['fare_amount']\n",
    "\n",
    "# Split the data into training and testing sets\n",
    "X_train, X_test, y_train, y_test = train_test_split(X, y, test_size=0.2, random_state=42)\n",
    "\n",
    "# Create and train the Random Forest regression model\n",
    "model = RandomForestRegressor(n_estimators=100, random_state=42)\n",
    "model.fit(X_train, y_train)\n",
    "\n",
    "# Make predictions\n",
    "y_pred = model.predict(X_test)\n"
   ]
  },
  {
   "cell_type": "code",
   "execution_count": 5,
   "id": "51b84b6b",
   "metadata": {},
   "outputs": [
    {
     "name": "stdout",
     "output_type": "stream",
     "text": [
      "Root Mean Squared Error (RMSE): 5.582868802233204\n"
     ]
    }
   ],
   "source": [
    "from sklearn.metrics import mean_squared_error\n",
    "import numpy as np\n",
    "\n",
    "# Calculate RMSE\n",
    "rmse = np.sqrt(mean_squared_error(y_test, y_pred))\n",
    "print(\"Root Mean Squared Error (RMSE):\", rmse)\n"
   ]
  },
  {
   "cell_type": "code",
   "execution_count": null,
   "id": "c9a19465",
   "metadata": {},
   "outputs": [],
   "source": []
  }
 ],
 "metadata": {
  "kernelspec": {
   "display_name": "Python 3 (ipykernel)",
   "language": "python",
   "name": "python3"
  },
  "language_info": {
   "codemirror_mode": {
    "name": "ipython",
    "version": 3
   },
   "file_extension": ".py",
   "mimetype": "text/x-python",
   "name": "python",
   "nbconvert_exporter": "python",
   "pygments_lexer": "ipython3",
   "version": "3.9.5"
  }
 },
 "nbformat": 4,
 "nbformat_minor": 5
}
